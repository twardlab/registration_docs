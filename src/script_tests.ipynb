{
 "cells": [
  {
   "cell_type": "markdown",
   "id": "10b25180-d36a-479c-ba85-8b9fa47f1451",
   "metadata": {},
   "source": [
    "## Step 1 Example"
   ]
  },
  {
   "cell_type": "code",
   "execution_count": null,
   "id": "f73350bc-8080-4dad-a32d-27942e5c85b8",
   "metadata": {
    "scrolled": true
   },
   "outputs": [],
   "source": [
    "brain = 'hTME15-1'\n",
    "orientation = 'R'\n",
    "target_files = ['/home/abenneck/panfs/dong/3D_registration/Yang_MORF_DragonFly/Q140_MORF_D1/Camk-MORF3-D1Tom_12m_hTME15-1_downsampled/10x/ch_0_pipeline_building/hTME15-1_Camk-MORF3-D1Tom_12m_10X_01_2023-05-08_10.12.46_FusionStitcher_ch_0_pow_[0.125]_down.npz', '/home/abenneck/panfs/dong/3D_registration/Yang_MORF_DragonFly/Q140_MORF_D1/Camk-MORF3-D1Tom_12m_hTME15-1_downsampled/10x/ch_0_pipeline_building/hTME15-1_Camk-MORF3-D1Tom_12m_10X_02_2023-05-08_10.31.20_FusionStitcher_ch_0_pow_[0.125]_down.npz', '/home/abenneck/panfs/dong/3D_registration/Yang_MORF_DragonFly/Q140_MORF_D1/Camk-MORF3-D1Tom_12m_hTME15-1_downsampled/10x/ch_0_pipeline_building/hTME15-1_Camk-MORF3-D1Tom_12m_10X_03_2023-05-08_10.48.01_FusionStitcher_ch_0_pow_[0.125]_down.npz', '/home/abenneck/panfs/dong/3D_registration/Yang_MORF_DragonFly/Q140_MORF_D1/Camk-MORF3-D1Tom_12m_hTME15-1_downsampled/10x/ch_0_pipeline_building/hTME15-1_Camk-MORF3-D1Tom_12m_10X_04_2023-05-08_11.24.52_FusionStitcher_ch_0_pow_[0.125]_down.npz', '/home/abenneck/panfs/dong/3D_registration/Yang_MORF_DragonFly/Q140_MORF_D1/Camk-MORF3-D1Tom_12m_hTME15-1_downsampled/10x/ch_0_pipeline_building/hTME15-1_Camk-MORF3-D1Tom_12m_10X_05_2023-05-08_11.43.25_FusionStitcher_ch_0_pow_[0.125]_down.npz', '/home/abenneck/panfs/dong/3D_registration/Yang_MORF_DragonFly/Q140_MORF_D1/Camk-MORF3-D1Tom_12m_hTME15-1_downsampled/10x/ch_0_pipeline_building/hTME15-1_Camk-MORF3-D1Tom_12m_10X_06_2023-05-08_11.57.43_FusionStitcher_ch_0_pow_[0.125]_down.npz', '/home/abenneck/panfs/dong/3D_registration/Yang_MORF_DragonFly/Q140_MORF_D1/Camk-MORF3-D1Tom_12m_hTME15-1_downsampled/10x/ch_0_pipeline_building/hTME15-1_Camk-MORF3-D1Tom_12m_10X_07_2023-05-08_12.19.31_FusionStitcher_ch_0_pow_[0.125]_down.npz', '/home/abenneck/panfs/dong/3D_registration/Yang_MORF_DragonFly/Q140_MORF_D1/Camk-MORF3-D1Tom_12m_hTME15-1_downsampled/10x/ch_0_pipeline_building/hTME15-1_Camk-MORF3-D1Tom_12m_10X_08_2023-05-08_12.35.58_FusionStitcher_ch_0_pow_[0.125]_down.npz', '/home/abenneck/panfs/dong/3D_registration/Yang_MORF_DragonFly/Q140_MORF_D1/Camk-MORF3-D1Tom_12m_hTME15-1_downsampled/10x/ch_0_pipeline_building/hTME15-1_Camk-MORF3-D1Tom_12m_10X_09_2023-05-08_12.55.16_FusionStitcher_ch_0_pow_[0.125]_down.npz']\n",
    "outdir = '/home/abenneck/dragonfly_work/dragonfly_outputs_script/hTME15-1/dragonfly_output_vis'\n",
    "atlas_names = ['/home/abenneck/mounts/bmaproot/nafs/dtward/allen_vtk/allen_vtk/ara_nissl_50.vtk', '/home/abenneck/mounts/bmaproot/nafs/dtward/allen_vtk/allen_vtk/average_template_50.vtk', '/home/abenneck/mounts/bmaproot/nafs/dtward/allen_vtk/allen_vtk/annotation_50.vtk']\n",
    "to_flip = [0,1]\n",
    "device = 'cuda:0'\n",
    "d_path = '/home/abenneck/Desktop/donglab_workflows'\n",
    "e_path = '/home/abenneck/Desktop/emlddmm'\n",
    "dslice = 500\n",
    "A = \"[[-1.0,0.0,0.0,1000.0], [0.0,0.0,-1.0,200.0],[0.0,1.0,0.0,-1800.0], [0.0,0.0,0.0,1.0]]\" \n",
    "AJ = ['[[0.75, 0, 0, 0],[0, 1, 0, 0],[0, 0, 1, 2422.3],[0, 0, 0, 1]]' '[[0.75, 0, 0, 0],[0, 1, 0, 0],[0, 0, 1, 2422.3],[0, 0, 0, 1]]' '[[0.75, 0, 0, 0],[0, 1, 0, 0],[0, 0, 1, 2422.3],[0, 0, 0, 1]]' '[[0.75, 0, 0, 0],[0, 1, 0, 0],[0, 0, 1, 2422.3],[0, 0, 0, 1]]' '[[0.75, 0, 0, 0],[0, 1, 0, 0],[0, 0, 1, 2422.3],[0, 0, 0, 1]]' '[[0.75, 0, 0, 0],[0, 1, 0, 0],[0, 0, 1, 2422.3],[0, 0, 0, 1]]' '[[0.75, 0, 0, 0],[0, 1, 0, 0],[0, 0, 1, 2422.3],[0, 0, 0, 1]]' '[[0.75, 0, 0, 0],[0, 1, 0, 0],[0, 0, 1, 2422.3],[0, 0, 0, 1]]' '[[0.75, 0, 0, 0],[0, 1, 0, 0],[0, 0, 1, 2422.3],[0, 0, 0, 1]]']\n",
    "\n",
    "# Example where all the input arguments are provided\n",
    "# !python3 step1_atlas_registration.py 'hTME15-1' 'R' -low '/home/abenneck/panfs/dong/3D_registration/Yang_MORF_DragonFly/Q140_MORF_D1/Camk-MORF3-D1Tom_12m_hTME15-1_downsampled/10x/ch_0_pipeline_building/hTME15-1_Camk-MORF3-D1Tom_12m_10X_01_2023-05-08_10.12.46_FusionStitcher_ch_0_pow_[0.125]_down.npz' '/home/abenneck/panfs/dong/3D_registration/Yang_MORF_DragonFly/Q140_MORF_D1/Camk-MORF3-D1Tom_12m_hTME15-1_downsampled/10x/ch_0_pipeline_building/hTME15-1_Camk-MORF3-D1Tom_12m_10X_02_2023-05-08_10.31.20_FusionStitcher_ch_0_pow_[0.125]_down.npz' '/home/abenneck/panfs/dong/3D_registration/Yang_MORF_DragonFly/Q140_MORF_D1/Camk-MORF3-D1Tom_12m_hTME15-1_downsampled/10x/ch_0_pipeline_building/hTME15-1_Camk-MORF3-D1Tom_12m_10X_03_2023-05-08_10.48.01_FusionStitcher_ch_0_pow_[0.125]_down.npz' '/home/abenneck/panfs/dong/3D_registration/Yang_MORF_DragonFly/Q140_MORF_D1/Camk-MORF3-D1Tom_12m_hTME15-1_downsampled/10x/ch_0_pipeline_building/hTME15-1_Camk-MORF3-D1Tom_12m_10X_04_2023-05-08_11.24.52_FusionStitcher_ch_0_pow_[0.125]_down.npz' '/home/abenneck/panfs/dong/3D_registration/Yang_MORF_DragonFly/Q140_MORF_D1/Camk-MORF3-D1Tom_12m_hTME15-1_downsampled/10x/ch_0_pipeline_building/hTME15-1_Camk-MORF3-D1Tom_12m_10X_05_2023-05-08_11.43.25_FusionStitcher_ch_0_pow_[0.125]_down.npz' '/home/abenneck/panfs/dong/3D_registration/Yang_MORF_DragonFly/Q140_MORF_D1/Camk-MORF3-D1Tom_12m_hTME15-1_downsampled/10x/ch_0_pipeline_building/hTME15-1_Camk-MORF3-D1Tom_12m_10X_06_2023-05-08_11.57.43_FusionStitcher_ch_0_pow_[0.125]_down.npz' '/home/abenneck/panfs/dong/3D_registration/Yang_MORF_DragonFly/Q140_MORF_D1/Camk-MORF3-D1Tom_12m_hTME15-1_downsampled/10x/ch_0_pipeline_building/hTME15-1_Camk-MORF3-D1Tom_12m_10X_07_2023-05-08_12.19.31_FusionStitcher_ch_0_pow_[0.125]_down.npz' '/home/abenneck/panfs/dong/3D_registration/Yang_MORF_DragonFly/Q140_MORF_D1/Camk-MORF3-D1Tom_12m_hTME15-1_downsampled/10x/ch_0_pipeline_building/hTME15-1_Camk-MORF3-D1Tom_12m_10X_08_2023-05-08_12.35.58_FusionStitcher_ch_0_pow_[0.125]_down.npz' '/home/abenneck/panfs/dong/3D_registration/Yang_MORF_DragonFly/Q140_MORF_D1/Camk-MORF3-D1Tom_12m_hTME15-1_downsampled/10x/ch_0_pipeline_building/hTME15-1_Camk-MORF3-D1Tom_12m_10X_09_2023-05-08_12.55.16_FusionStitcher_ch_0_pow_[0.125]_down.npz' -out '/home/abenneck/dragonfly_work/dragonfly_outputs_script/hTME15-1/dragonfly_output_vis' -atlas_paths '/home/abenneck/mounts/bmaproot/nafs/dtward/allen_vtk/allen_vtk/ara_nissl_50.vtk' '/home/abenneck/mounts/bmaproot/nafs/dtward/allen_vtk/allen_vtk/average_template_50.vtk' '/home/abenneck/mounts/bmaproot/nafs/dtward/allen_vtk/allen_vtk/annotation_50.vtk' -to_flip 0 1 -device 'cuda:0' -d_path '/home/abenneck/Desktop/donglab_workflows' -e_path '/home/abenneck/Desktop/emlddmm' --dslice 500 --A \"[[-1.0,0.0,0.0,1000.0], [0.0,0.0,-1.0,200.0],[0.0,1.0,0.0,-1800.0], [0.0,0.0,0.0,1.0]]\" --AJ '[[0.75, 0, 0, 0],[0, 1, 0, 0],[0, 0, 1, 2422.3],[0, 0, 0, 1]]' '[[0.75, 0, 0, 0],[0, 1, 0, 0],[0, 0, 1, 2422.3],[0, 0, 0, 1]]' '[[0.75, 0, 0, 0],[0, 1, 0, 0],[0, 0, 1, 2422.3],[0, 0, 0, 1]]' '[[0.75, 0, 0, 0],[0, 1, 0, 0],[0, 0, 1, 2422.3],[0, 0, 0, 1]]' '[[0.75, 0, 0, 0],[0, 1, 0, 0],[0, 0, 1, 2422.3],[0, 0, 0, 1]]' '[[0.75, 0, 0, 0],[0, 1, 0, 0],[0, 0, 1, 2422.3],[0, 0, 0, 1]]' '[[0.75, 0, 0, 0],[0, 1, 0, 0],[0, 0, 1, 2422.3],[0, 0, 0, 1]]' '[[0.75, 0, 0, 0],[0, 1, 0, 0],[0, 0, 1, 2422.3],[0, 0, 0, 1]]' '[[0.75, 0, 0, 0],[0, 1, 0, 0],[0, 0, 1, 2422.3],[0, 0, 0, 1]]' \n",
    "\n",
    "# Example where all the input arguments are provided, aside from 'A' and 'AJ' + only one slice is passed for registration\n",
    "# !python3 step1_atlas_registration.py 'hTME15-1' 'R' -low '/home/abenneck/panfs/dong/3D_registration/Yang_MORF_DragonFly/Q140_MORF_D1/Camk-MORF3-D1Tom_12m_hTME15-1_downsampled/10x/ch_0_pipeline_building/hTME15-1_Camk-MORF3-D1Tom_12m_10X_09_2023-05-08_12.55.16_FusionStitcher_ch_0_pow_[0.125]_down.npz' -out '/home/abenneck/dragonfly_work/dragonfly_outputs_script/hTME15-1/dragonfly_output_vis' -atlas_paths '/home/abenneck/mounts/bmaproot/nafs/dtward/allen_vtk/allen_vtk/ara_nissl_50.vtk' '/home/abenneck/mounts/bmaproot/nafs/dtward/allen_vtk/allen_vtk/average_template_50.vtk' '/home/abenneck/mounts/bmaproot/nafs/dtward/allen_vtk/allen_vtk/annotation_50.vtk' -to_flip 0 1 -device 'cuda:0' -d_path '/home/abenneck/Desktop/donglab_workflows' -e_path '/home/abenneck/Desktop/emlddmm'"
   ]
  },
  {
   "cell_type": "code",
   "execution_count": null,
   "id": "dd5dec19-ffdc-4649-84e3-d1c72fe41be8",
   "metadata": {
    "scrolled": true
   },
   "outputs": [],
   "source": [
    "brain = 'TisR21'\n",
    "orientation = 'L'\n",
    "target_files = ['/home/abenneck/misc_registration/NewTisR21_061224.npz']\n",
    "outdir = '/home/abenneck/misc_registration/TisR21_step1_out_061224'\n",
    "atlas_names = ['/home/abenneck/mounts/bmaproot/nafs/dtward/allen_vtk/allen_vtk/ara_nissl_50.vtk', '/home/abenneck/mounts/bmaproot/nafs/dtward/allen_vtk/allen_vtk/average_template_50.vtk', '/home/abenneck/mounts/bmaproot/nafs/dtward/allen_vtk/allen_vtk/annotation_50.vtk']\n",
    "to_flip = [0]\n",
    "device = 'cuda:0'\n",
    "dslice = 1000\n",
    "A = '[[-0.9,0,0,-450],[0,0,-0.9,0],[0,0.9,0,3150],[0,0,0,1]]'\n",
    "AJ = ['[[1,0,0,-500],[0,1,0,0],[0,0,1,0],[0,0,0,1]]']\n",
    "d_path = '/home/abenneck/Desktop/donglab_workflows'\n",
    "e_path = '/home/abenneck/Desktop/emlddmm'\n",
    "normalizeData = 'False'\n",
    "zeroMean = 'False'\n",
    "largerRGBfig = True\n",
    "\n",
    "# Example where all the input arguments are provided, aside from 'A' + only one slice is passed for registration\n",
    "# !python3 step1_atlas_registration.py 'TisR21' 'L' -low '/home/abenneck/misc_registration/NewTisR21_061224.npz' -out '/home/abenneck/misc_registration/TisR21_step1_out_061224' -atlas_paths '/home/abenneck/mounts/bmaproot/nafs/dtward/allen_vtk/allen_vtk/ara_nissl_50.vtk' '/home/abenneck/mounts/bmaproot/nafs/dtward/allen_vtk/allen_vtk/average_template_50.vtk' '/home/abenneck/mounts/bmaproot/nafs/dtward/allen_vtk/allen_vtk/annotation_50.vtk' -to_flip 0  -device 'cuda:0' --dslice 1000 --A '[[-0.9,0,0,-450],[0,0,-0.9,0],[0,0.9,0,3150],[0,0,0,1]]' --AJ '[[1,0,0,-500],[0,1,0,0],[0,0,1,0],[0,0,0,1]]' -d_path '/home/abenneck/Desktop/donglab_workflows' -e_path '/home/abenneck/Desktop/emlddmm' --normalizeData 'False' --zeroMean 'False' --largerRGBfig True"
   ]
  },
  {
   "cell_type": "markdown",
   "id": "5b9e7037-95d8-40cd-8052-5b5cb15b07d2",
   "metadata": {
    "jp-MarkdownHeadingCollapsed": true
   },
   "source": [
    "## Step 2 Example"
   ]
  },
  {
   "cell_type": "code",
   "execution_count": null,
   "id": "825a4ddc-abb4-45b3-ac38-3f38e81b9c8e",
   "metadata": {},
   "outputs": [],
   "source": [
    "high_path = '/home/abenneck/panfs/dong/3D_registration/Yang_MORF_DragonFly/TME08-1_downsampled/30x/ch_0_pipeline_building/Camk2a-MORF3-D1Tom_TME08-1_30x_Str_04A_ch_0_pow_[0.125]_down.npz'\n",
    "low_path = '/home/abenneck/panfs/dong/3D_registration/Yang_MORF_DragonFly/TME08-1_downsampled/10x/ch_1_pipeline_building/Camk2a-MORF3-D1Tom_TME08-1_10x_04_ch_1_pow_[0.125]_down.npz'\n",
    "outdir = '/home/abenneck/dragonfly_work/dragonfly_outputs_script/TME08-1/step2_out'\n",
    "shifts = [0,800,2900]\n",
    "d_path = '/home/abenneck/Desktop/donglab_workflows'\n",
    "e_path = '/home/abenneck/Desktop/emlddmm'\n",
    "\n",
    "# Example where all input arguments are provided\n",
    "!python3 step2_atlas_registration.py 'TME08-1' '-low_path=/home/abenneck/panfs/dong/3D_registration/Yang_MORF_DragonFly/TME08-1_downsampled/10x/ch_1_pipeline_building/Camk2a-MORF3-D1Tom_TME08-1_10x_04_ch_1_pow_[0.125]_down.npz' '-high_path=/home/abenneck/panfs/dong/3D_registration/Yang_MORF_DragonFly/TME08-1_downsampled/30x/ch_0_pipeline_building/Camk2a-MORF3-D1Tom_TME08-1_30x_Str_04A_ch_0_pow_[0.125]_down.npz' '-outdir=/home/abenneck/dragonfly_work/dragonfly_outputs_script/TME08-1/step2_out' '-high_num=04A' '-d_path=/home/abenneck/Desktop/donglab_workflows' '-e_path=/home/abenneck/Desktop/emlddmm' -shifts 0 800 2900"
   ]
  },
  {
   "cell_type": "markdown",
   "id": "576ddd23-4ce7-42e8-9199-20824dead3e7",
   "metadata": {},
   "source": [
    "## Step 3 Example"
   ]
  },
  {
   "cell_type": "markdown",
   "id": "7101436c-9a11-458e-b0b0-1c00dbb5e450",
   "metadata": {},
   "source": [
    "### Whole brain example (TME08-1)"
   ]
  },
  {
   "cell_type": "code",
   "execution_count": null,
   "id": "f2c86fd0-1174-4175-b666-ea1600f71ff1",
   "metadata": {
    "scrolled": true
   },
   "outputs": [],
   "source": [
    "# Define all input variables\n",
    "dataset = 'TME08-1'\n",
    "orientation = 'W'\n",
    "neuron_dir = '/home/abenneck/mounts/bmaproot/panfs/dong/3D_registration/Yang_MORF_DragonFly/TME08-1_reconstructions'\n",
    "low_to_high_dir = '/home/abenneck/mounts/bmaproot/nafs/dtward/andrew_work/test/dragonfly_work/dragonfly_outputs/TME08-1/dragonfly_10_to_30_outputs'\n",
    "tform = '/home/abenneck/mounts/bmaproot/nafs/dtward/andrew_work/test/dragonfly_work/dragonfly_outputs_weighted/TME08-1/dragonfly_output_vis/transformation_outputs.npz'\n",
    "\n",
    "low_img_paths = ['/home/abenneck/mounts/bmaproot/panfs/dong/3D_registration/Yang_MORF_DragonFly/TME08-1_downsampled/10x/ch_0_pipeline_building/Camk2a-MORF3-D1Tom_TME08-1_10x_01_ch_0_pow_[0.125]_down.npz',\n",
    "                 '/home/abenneck/mounts/bmaproot/panfs/dong/3D_registration/Yang_MORF_DragonFly/TME08-1_downsampled/10x/ch_0_pipeline_building/Camk2a-MORF3-D1Tom_TME08-1_10x_02_ch_0_pow_[0.125]_down.npz',\n",
    "                 '/home/abenneck/mounts/bmaproot/panfs/dong/3D_registration/Yang_MORF_DragonFly/TME08-1_downsampled/10x/ch_0_pipeline_building/Camk2a-MORF3-D1Tom_TME08-1_10x_03_ch_0_pow_[0.125]_down.npz',\n",
    "                 '/home/abenneck/mounts/bmaproot/panfs/dong/3D_registration/Yang_MORF_DragonFly/TME08-1_downsampled/10x/ch_0_pipeline_building/Camk2a-MORF3-D1Tom_TME08-1_10x_04_ch_0_pow_[0.125]_down.npz',\n",
    "                 '/home/abenneck/mounts/bmaproot/panfs/dong/3D_registration/Yang_MORF_DragonFly/TME08-1_downsampled/10x/ch_0_pipeline_building/Camk2a-MORF3-D1Tom_TME08-1_10x_05_ch_0_pow_[0.125]_down.npz',\n",
    "                 '/home/abenneck/mounts/bmaproot/panfs/dong/3D_registration/Yang_MORF_DragonFly/TME08-1_downsampled/10x/ch_0_pipeline_building/Camk2a-MORF3-D1Tom_TME08-1_10x_06_ch_0_pow_[0.125]_down.npz',\n",
    "                 '/home/abenneck/mounts/bmaproot/panfs/dong/3D_registration/Yang_MORF_DragonFly/TME08-1_downsampled/10x/ch_0_pipeline_building/Camk2a-MORF3-D1Tom_TME08-1_10x_07_ch_0_pow_[0.125]_down.npz',\n",
    "                 '/home/abenneck/mounts/bmaproot/panfs/dong/3D_registration/Yang_MORF_DragonFly/TME08-1_downsampled/10x/ch_0_pipeline_building/Camk2a-MORF3-D1Tom_TME08-1_10x_08_ch_0_pow_[0.125]_down.npz'\n",
    "                ]\n",
    "low_imd_ids = ['01','02','03','04','05','06','07','08']\n",
    "\n",
    "high_img_paths = ['/home/abenneck/mounts/bmaproot/panfs/dong/3D_registration/Yang_MORF_DragonFly/TME08-1_downsampled/30x/ch_0_pipeline_building/Camk2a-MORF3-D1Tom_TME08-1_30x_Str_01A_ch_0_pow_[0.125]_down.npz', \n",
    "                  '/home/abenneck/mounts/bmaproot/panfs/dong/3D_registration/Yang_MORF_DragonFly/TME08-1_downsampled/30x/ch_0_pipeline_building/Camk2a-MORF3-D1Tom_TME08-1_30x_Str_01B_ch_0_pow_[0.125]_down.npz',\n",
    "                  '/home/abenneck/mounts/bmaproot/panfs/dong/3D_registration/Yang_MORF_DragonFly/TME08-1_downsampled/30x/ch_0_pipeline_building/Camk2a-MORF3-D1Tom_TME08-1_30x_Str_02A_ch_0_pow_[0.125]_down.npz', \n",
    "                  '/home/abenneck/mounts/bmaproot/panfs/dong/3D_registration/Yang_MORF_DragonFly/TME08-1_downsampled/30x/ch_0_pipeline_building/Camk2a-MORF3-D1Tom_TME08-1_30x_Str_02B_ch_0_pow_[0.125]_down.npz',\n",
    "                  '/home/abenneck/mounts/bmaproot/panfs/dong/3D_registration/Yang_MORF_DragonFly/TME08-1_downsampled/30x/ch_0_pipeline_building/Camk2a-MORF3-D1Tom_TME08-1_30x_Str_03A_ch_0_pow_[0.125]_down.npz', \n",
    "                  '/home/abenneck/mounts/bmaproot/panfs/dong/3D_registration/Yang_MORF_DragonFly/TME08-1_downsampled/30x/ch_0_pipeline_building/Camk2a-MORF3-D1Tom_TME08-1_30x_Str_03B_ch_0_pow_[0.125]_down.npz',\n",
    "                  '/home/abenneck/mounts/bmaproot/panfs/dong/3D_registration/Yang_MORF_DragonFly/TME08-1_downsampled/30x/ch_0_pipeline_building/Camk2a-MORF3-D1Tom_TME08-1_30x_Str_04A_ch_0_pow_[0.125]_down.npz', \n",
    "                  '/home/abenneck/mounts/bmaproot/panfs/dong/3D_registration/Yang_MORF_DragonFly/TME08-1_downsampled/30x/ch_0_pipeline_building/Camk2a-MORF3-D1Tom_TME08-1_30x_Str_04B_ch_0_pow_[0.125]_down.npz',\n",
    "                  '/home/abenneck/mounts/bmaproot/panfs/dong/3D_registration/Yang_MORF_DragonFly/TME08-1_downsampled/30x/ch_0_pipeline_building/Camk2a-MORF3-D1Tom_TME08-1_30x_Str_05A_ch_0_pow_[0.125]_down.npz',\n",
    "                  '/home/abenneck/mounts/bmaproot/panfs/dong/3D_registration/Yang_MORF_DragonFly/TME08-1_downsampled/30x/ch_0_pipeline_building/Camk2a-MORF3-D1Tom_TME08-1_30x_Str_05B_ch_0_pow_[0.125]_down.npz',\n",
    "                  '/home/abenneck/mounts/bmaproot/panfs/dong/3D_registration/Yang_MORF_DragonFly/TME08-1_downsampled/30x/ch_0_pipeline_building/Camk2a-MORF3-D1Tom_TME08-1_30x_Str_06A_ch_0_pow_[0.125]_down.npz',\n",
    "                  '/home/abenneck/mounts/bmaproot/panfs/dong/3D_registration/Yang_MORF_DragonFly/TME08-1_downsampled/30x/ch_0_pipeline_building/Camk2a-MORF3-D1Tom_TME08-1_30x_Str_06B_ch_0_pow_[0.125]_down.npz',\n",
    "                  '/home/abenneck/mounts/bmaproot/panfs/dong/3D_registration/Yang_MORF_DragonFly/TME08-1_downsampled/30x/ch_0_pipeline_building/Camk2a-MORF3-D1Tom_TME08-1_30x_Str_07A_ch_0_pow_[0.125]_down.npz',\n",
    "                  '/home/abenneck/mounts/bmaproot/panfs/dong/3D_registration/Yang_MORF_DragonFly/TME08-1_downsampled/30x/ch_0_pipeline_building/Camk2a-MORF3-D1Tom_TME08-1_30x_Str_07B_ch_0_pow_[0.125]_down.npz',\n",
    "                  '/home/abenneck/mounts/bmaproot/panfs/dong/3D_registration/Yang_MORF_DragonFly/TME08-1_downsampled/30x/ch_0_pipeline_building/Camk2a-MORF3-D1Tom_TME08-1_30x_Str_08A_ch_0_pow_[0.125]_down.npz',\n",
    "                  '/home/abenneck/mounts/bmaproot/panfs/dong/3D_registration/Yang_MORF_DragonFly/TME08-1_downsampled/30x/ch_0_pipeline_building/Camk2a-MORF3-D1Tom_TME08-1_30x_Str_08B_ch_0_pow_[0.125]_down.npz'\n",
    "                 ]\n",
    "\n",
    "# high_img_ids = \"[['01A','01B'],['02A','02B'],['03A','03B'],['04A','04B'],['05A','05B'],['06A','06B'],['07A','07B'],['08A','08B']]\"\n",
    "\n",
    "outdir = '/home/abenneck/dragonfly_work/dragonfly_outputs_script/TME08-1/step3_dendritome'\n",
    "atlas_paths = ['/home/abenneck/mounts/bmaproot/nafs/dtward/allen_vtk/allen_vtk/ara_nissl_50.vtk', '/home/abenneck/mounts/bmaproot/nafs/dtward/allen_vtk/allen_vtk/average_template_50.vtk','/home/abenneck/mounts/bmaproot/nafs/dtward/dong/upenn_atlas/UPenn_labels_reoriented_origin.vtk', '/home/abenneck/mounts/bmaproot/nafs/dtward/dong/upenn_atlas/atlas_info_KimRef_FPbasedLabel_v2.7.csv']\n",
    "d_path = '/home/abenneck/Desktop/donglab_workflows'\n",
    "e_path = '/home/abenneck/Desktop/emlddmm'\n",
    "\n",
    "# Example where all input arguments are provided\n",
    "# !python3 step3_atlas_registration.py 'TME08-1' 'W' '-neuron_dir=/home/abenneck/mounts/bmaproot/panfs/dong/3D_registration/Yang_MORF_DragonFly/TME08-1_reconstructions' '-low_to_high_dir=/home/abenneck/mounts/bmaproot/nafs/dtward/andrew_work/test/dragonfly_work/dragonfly_outputs/TME08-1/dragonfly_10_to_30_outputs' '-tform=/home/abenneck/mounts/bmaproot/nafs/dtward/andrew_work/test/dragonfly_work/dragonfly_outputs_weighted/TME08-1/dragonfly_output_vis/transformation_outputs.npz' -low_img_paths  '/home/abenneck/mounts/bmaproot/panfs/dong/3D_registration/Yang_MORF_DragonFly/TME08-1_downsampled/10x/ch_0_pipeline_building/Camk2a-MORF3-D1Tom_TME08-1_10x_01_ch_0_pow_[0.125]_down.npz' '/home/abenneck/mounts/bmaproot/panfs/dong/3D_registration/Yang_MORF_DragonFly/TME08-1_downsampled/10x/ch_0_pipeline_building/Camk2a-MORF3-D1Tom_TME08-1_10x_02_ch_0_pow_[0.125]_down.npz' '/home/abenneck/mounts/bmaproot/panfs/dong/3D_registration/Yang_MORF_DragonFly/TME08-1_downsampled/10x/ch_0_pipeline_building/Camk2a-MORF3-D1Tom_TME08-1_10x_03_ch_0_pow_[0.125]_down.npz' '/home/abenneck/mounts/bmaproot/panfs/dong/3D_registration/Yang_MORF_DragonFly/TME08-1_downsampled/10x/ch_0_pipeline_building/Camk2a-MORF3-D1Tom_TME08-1_10x_04_ch_0_pow_[0.125]_down.npz' '/home/abenneck/mounts/bmaproot/panfs/dong/3D_registration/Yang_MORF_DragonFly/TME08-1_downsampled/10x/ch_0_pipeline_building/Camk2a-MORF3-D1Tom_TME08-1_10x_05_ch_0_pow_[0.125]_down.npz' '/home/abenneck/mounts/bmaproot/panfs/dong/3D_registration/Yang_MORF_DragonFly/TME08-1_downsampled/10x/ch_0_pipeline_building/Camk2a-MORF3-D1Tom_TME08-1_10x_06_ch_0_pow_[0.125]_down.npz' '/home/abenneck/mounts/bmaproot/panfs/dong/3D_registration/Yang_MORF_DragonFly/TME08-1_downsampled/10x/ch_0_pipeline_building/Camk2a-MORF3-D1Tom_TME08-1_10x_07_ch_0_pow_[0.125]_down.npz' '/home/abenneck/mounts/bmaproot/panfs/dong/3D_registration/Yang_MORF_DragonFly/TME08-1_downsampled/10x/ch_0_pipeline_building/Camk2a-MORF3-D1Tom_TME08-1_10x_08_ch_0_pow_[0.125]_down.npz' -low_img_ids '01' '02' '03' '04' '05' '06' '07' '08' -high_img_paths  '/home/abenneck/mounts/bmaproot/panfs/dong/3D_registration/Yang_MORF_DragonFly/TME08-1_downsampled/30x/ch_0_pipeline_building/Camk2a-MORF3-D1Tom_TME08-1_30x_Str_01A_ch_0_pow_[0.125]_down.npz' '/home/abenneck/mounts/bmaproot/panfs/dong/3D_registration/Yang_MORF_DragonFly/TME08-1_downsampled/30x/ch_0_pipeline_building/Camk2a-MORF3-D1Tom_TME08-1_30x_Str_01B_ch_0_pow_[0.125]_down.npz' '/home/abenneck/mounts/bmaproot/panfs/dong/3D_registration/Yang_MORF_DragonFly/TME08-1_downsampled/30x/ch_0_pipeline_building/Camk2a-MORF3-D1Tom_TME08-1_30x_Str_02A_ch_0_pow_[0.125]_down.npz' '/home/abenneck/mounts/bmaproot/panfs/dong/3D_registration/Yang_MORF_DragonFly/TME08-1_downsampled/30x/ch_0_pipeline_building/Camk2a-MORF3-D1Tom_TME08-1_30x_Str_02B_ch_0_pow_[0.125]_down.npz' '/home/abenneck/mounts/bmaproot/panfs/dong/3D_registration/Yang_MORF_DragonFly/TME08-1_downsampled/30x/ch_0_pipeline_building/Camk2a-MORF3-D1Tom_TME08-1_30x_Str_03A_ch_0_pow_[0.125]_down.npz' '/home/abenneck/mounts/bmaproot/panfs/dong/3D_registration/Yang_MORF_DragonFly/TME08-1_downsampled/30x/ch_0_pipeline_building/Camk2a-MORF3-D1Tom_TME08-1_30x_Str_03B_ch_0_pow_[0.125]_down.npz' '/home/abenneck/mounts/bmaproot/panfs/dong/3D_registration/Yang_MORF_DragonFly/TME08-1_downsampled/30x/ch_0_pipeline_building/Camk2a-MORF3-D1Tom_TME08-1_30x_Str_04A_ch_0_pow_[0.125]_down.npz' '/home/abenneck/mounts/bmaproot/panfs/dong/3D_registration/Yang_MORF_DragonFly/TME08-1_downsampled/30x/ch_0_pipeline_building/Camk2a-MORF3-D1Tom_TME08-1_30x_Str_04B_ch_0_pow_[0.125]_down.npz' '/home/abenneck/mounts/bmaproot/panfs/dong/3D_registration/Yang_MORF_DragonFly/TME08-1_downsampled/30x/ch_0_pipeline_building/Camk2a-MORF3-D1Tom_TME08-1_30x_Str_05A_ch_0_pow_[0.125]_down.npz' '/home/abenneck/mounts/bmaproot/panfs/dong/3D_registration/Yang_MORF_DragonFly/TME08-1_downsampled/30x/ch_0_pipeline_building/Camk2a-MORF3-D1Tom_TME08-1_30x_Str_05B_ch_0_pow_[0.125]_down.npz' '/home/abenneck/mounts/bmaproot/panfs/dong/3D_registration/Yang_MORF_DragonFly/TME08-1_downsampled/30x/ch_0_pipeline_building/Camk2a-MORF3-D1Tom_TME08-1_30x_Str_06A_ch_0_pow_[0.125]_down.npz' '/home/abenneck/mounts/bmaproot/panfs/dong/3D_registration/Yang_MORF_DragonFly/TME08-1_downsampled/30x/ch_0_pipeline_building/Camk2a-MORF3-D1Tom_TME08-1_30x_Str_06B_ch_0_pow_[0.125]_down.npz' '/home/abenneck/mounts/bmaproot/panfs/dong/3D_registration/Yang_MORF_DragonFly/TME08-1_downsampled/30x/ch_0_pipeline_building/Camk2a-MORF3-D1Tom_TME08-1_30x_Str_07A_ch_0_pow_[0.125]_down.npz' '/home/abenneck/mounts/bmaproot/panfs/dong/3D_registration/Yang_MORF_DragonFly/TME08-1_downsampled/30x/ch_0_pipeline_building/Camk2a-MORF3-D1Tom_TME08-1_30x_Str_07B_ch_0_pow_[0.125]_down.npz' '/home/abenneck/mounts/bmaproot/panfs/dong/3D_registration/Yang_MORF_DragonFly/TME08-1_downsampled/30x/ch_0_pipeline_building/Camk2a-MORF3-D1Tom_TME08-1_30x_Str_08A_ch_0_pow_[0.125]_down.npz' '/home/abenneck/mounts/bmaproot/panfs/dong/3D_registration/Yang_MORF_DragonFly/TME08-1_downsampled/30x/ch_0_pipeline_building/Camk2a-MORF3-D1Tom_TME08-1_30x_Str_08B_ch_0_pow_[0.125]_down.npz' -high_img_ids '[[01A,01B],[02A,02B],[03A,03B],[04A,04B],[05A,05B],[06A,06B],[07A,07B],[08A,08B]]' -outdir '/home/abenneck/dragonfly_work/dragonfly_outputs_script/TME08-1/step3_out' -atlas_paths '/home/abenneck/mounts/bmaproot/nafs/dtward/allen_vtk/allen_vtk/ara_nissl_50.vtk' '/home/abenneck/mounts/bmaproot/nafs/dtward/allen_vtk/allen_vtk/average_template_50.vtk' '/home/abenneck/mounts/bmaproot/nafs/dtward/dong/upenn_atlas/UPenn_labels_reoriented_origin.vtk' '/home/abenneck/mounts/bmaproot/nafs/dtward/dong/upenn_atlas/atlas_info_KimRef_FPbasedLabel_v2.7.csv' -e_path '/home/abenneck/Desktop/emlddmm' -d_path '/home/abenneck/Desktop/donglab_workflows'\n",
    "\n",
    "# Example where the high_img_ids argument is not provided, but rather generated within the script\n",
    "# !python3 step3_atlas_registration.py {brain} 'W' -neuron_dir {neuron_dir} -low_to_high_dir {low_to_high_dir} -tform {tform} -low_img_paths {low_img_paths[0]} {low_img_paths[1]} {low_img_paths[2]} {low_img_paths[3]} {low_img_paths[4]} {low_img_paths[5]} {low_img_paths[6]} {low_img_paths[7]} -low_img_ids {low_imd_ids[0]} {low_imd_ids[1]} {low_imd_ids[2]} {low_imd_ids[3]} {low_imd_ids[4]} {low_imd_ids[5]} {low_imd_ids[6]} {low_imd_ids[7]} -high_img_paths {high_img_paths[0]} {high_img_paths[1]} {high_img_paths[2]} {high_img_paths[3]} {high_img_paths[4]} {high_img_paths[5]} {high_img_paths[6]} {high_img_paths[7]} {high_img_paths[8]} {high_img_paths[9]} {high_img_paths[10]} {high_img_paths[11]} {high_img_paths[12]} {high_img_paths[13]} {high_img_paths[14]} {high_img_paths[15]} -outdir {outdir} -atlas_paths {atlas_paths[0]} {atlas_paths[1]} {atlas_paths[2]} {atlas_paths[3]} -toggle_low \"False\" -toggle_high \"False\" -toggle_seg \"False\" -toggle_cp \"False\" -toggle_neurons \"True\" -e_path {e_path} -d_path {d_path}"
   ]
  },
  {
   "cell_type": "markdown",
   "id": "d7a6f495-5f7b-4de6-a484-c9d7f8a9c14a",
   "metadata": {},
   "source": [
    "### Hemisphere brain example (hTME15-1)"
   ]
  },
  {
   "cell_type": "code",
   "execution_count": 1,
   "id": "033d4100-ddba-4743-8bbf-c9f39bf7b5b4",
   "metadata": {},
   "outputs": [
    {
     "name": "stdout",
     "output_type": "stream",
     "text": [
      "\n",
      "\n",
      "Starting low_res slice: 01\n",
      "/home/abenneck/Desktop/image_reg/dragonfly_registration_summer_2023/registration_scripts/step3_atlas_registration.py:493: RuntimeWarning: invalid value encountered in divide\n",
      "  toshow = ((JtoI)/(WJtoI))[None]\n",
      "/usr/lib/python3/dist-packages/matplotlib/cm.py:440: RuntimeWarning: invalid value encountered in cast\n",
      "  xx = (xx * 255).astype(np.uint8)\n",
      "/home/abenneck/Desktop/image_reg/dragonfly_registration_summer_2023/registration_scripts/step3_atlas_registration.py:624: RuntimeWarning: invalid value encountered in sqrt\n",
      "  ax.imshow(Ishow[...,None]**0.5*np.array([[[1.0,0.0,0.0]]]),vmin=0,vmax=1,extent=extentlow0)\n",
      "/home/abenneck/Desktop/image_reg/dragonfly_registration_summer_2023/registration_scripts/step3_atlas_registration.py:626: RuntimeWarning: invalid value encountered in sqrt\n",
      "  ax.imshow(toshowmax[...,None]**0.5*np.array([[[0.0,1.0,0.0]]]),vmin=0,vmax=1,alpha=0.4,cmap='Greens',extent=extentlow0)\n",
      "Clipping input data to the valid range for imshow with RGB data ([0..1] for floats or [0..255] for integers).\n",
      "\n",
      "\n",
      "Starting low_res slice: 02\n",
      "/home/abenneck/Desktop/image_reg/dragonfly_registration_summer_2023/registration_scripts/step3_atlas_registration.py:493: RuntimeWarning: invalid value encountered in divide\n",
      "  toshow = ((JtoI)/(WJtoI))[None]\n",
      "/usr/lib/python3/dist-packages/matplotlib/cm.py:440: RuntimeWarning: invalid value encountered in cast\n",
      "  xx = (xx * 255).astype(np.uint8)\n",
      "^C\n",
      "Traceback (most recent call last):\n",
      "  File \"/home/abenneck/Desktop/image_reg/dragonfly_registration_summer_2023/registration_scripts/step3_atlas_registration.py\", line 1091, in <module>\n",
      "    main()\n",
      "  File \"/home/abenneck/Desktop/image_reg/dragonfly_registration_summer_2023/registration_scripts/step3_atlas_registration.py\", line 528, in main\n",
      "    lines0 = LineCollection(v_[e_][...,[0,1]],colors=colors,linewidths=0.5)\n",
      "  File \"/usr/lib/python3/dist-packages/matplotlib/collections.py\", line 1446, in __init__\n",
      "    self.set_segments(segments)\n",
      "  File \"/usr/lib/python3/dist-packages/matplotlib/collections.py\", line 1458, in set_segments\n",
      "    self._paths = [mpath.Path(_seg) for _seg in _segments]\n",
      "  File \"/usr/lib/python3/dist-packages/matplotlib/collections.py\", line 1458, in <listcomp>\n",
      "    self._paths = [mpath.Path(_seg) for _seg in _segments]\n",
      "  File \"/usr/lib/python3/dist-packages/matplotlib/path.py\", line 152, in __init__\n",
      "    self._update_values()\n",
      "  File \"/usr/lib/python3/dist-packages/matplotlib/path.py\", line 195, in _update_values\n",
      "    mpl.rcParams['path.simplify'] and\n",
      "  File \"/usr/lib/python3/dist-packages/matplotlib/__init__.py\", line 678, in __getitem__\n",
      "    return dict.__getitem__(self, key)\n",
      "KeyboardInterrupt\n"
     ]
    }
   ],
   "source": [
    "# Define all input variables\n",
    "dataset = 'hTME15-1'\n",
    "orientation = 'R'\n",
    "neuron_dir = '/home/abenneck/mounts/bmaproot/panfs/dong/3D_registration/Yang_MORF_DragonFly/Q140_MORF_D1/Camk-MORF3-D1Tom_12m_hTME15-1_reconstructions'\n",
    "low_to_high_dir = '/home/abenneck/mounts/bmaproot/nafs/dtward/andrew_work/test/dragonfly_work/dragonfly_outputs/hTME15-1/dragonfly_10_to_30_outputs'\n",
    "tform = '/home/abenneck/mounts/bmaproot/nafs/dtward/andrew_work/test/dragonfly_work/dragonfly_outputs_weighted/hTME15-1/dragonfly_output_vis/transformation_outputs.npz'\n",
    "\n",
    "low_img_paths = ['/home/abenneck/mounts/bmaproot/panfs/dong/3D_registration/Yang_MORF_DragonFly/Q140_MORF_D1/Camk-MORF3-D1Tom_12m_hTME15-1_downsampled/10x/ch_0_pipeline_building/hTME15-1_Camk-MORF3-D1Tom_12m_10X_01_2023-05-08_10.12.46_FusionStitcher_ch_0_pow_[0.125]_down.npz',\n",
    "                 '/home/abenneck/mounts/bmaproot/panfs/dong/3D_registration/Yang_MORF_DragonFly/Q140_MORF_D1/Camk-MORF3-D1Tom_12m_hTME15-1_downsampled/10x/ch_0_pipeline_building/hTME15-1_Camk-MORF3-D1Tom_12m_10X_02_2023-05-08_10.31.20_FusionStitcher_ch_0_pow_[0.125]_down.npz',\n",
    "                 '/home/abenneck/mounts/bmaproot/panfs/dong/3D_registration/Yang_MORF_DragonFly/Q140_MORF_D1/Camk-MORF3-D1Tom_12m_hTME15-1_downsampled/10x/ch_0_pipeline_building/hTME15-1_Camk-MORF3-D1Tom_12m_10X_03_2023-05-08_10.48.01_FusionStitcher_ch_0_pow_[0.125]_down.npz',\n",
    "                 '/home/abenneck/mounts/bmaproot/panfs/dong/3D_registration/Yang_MORF_DragonFly/Q140_MORF_D1/Camk-MORF3-D1Tom_12m_hTME15-1_downsampled/10x/ch_0_pipeline_building/hTME15-1_Camk-MORF3-D1Tom_12m_10X_04_2023-05-08_11.24.52_FusionStitcher_ch_0_pow_[0.125]_down.npz',\n",
    "                 '/home/abenneck/mounts/bmaproot/panfs/dong/3D_registration/Yang_MORF_DragonFly/Q140_MORF_D1/Camk-MORF3-D1Tom_12m_hTME15-1_downsampled/10x/ch_0_pipeline_building/hTME15-1_Camk-MORF3-D1Tom_12m_10X_05_2023-05-08_11.43.25_FusionStitcher_ch_0_pow_[0.125]_down.npz',\n",
    "                 '/home/abenneck/mounts/bmaproot/panfs/dong/3D_registration/Yang_MORF_DragonFly/Q140_MORF_D1/Camk-MORF3-D1Tom_12m_hTME15-1_downsampled/10x/ch_0_pipeline_building/hTME15-1_Camk-MORF3-D1Tom_12m_10X_06_2023-05-08_11.57.43_FusionStitcher_ch_0_pow_[0.125]_down.npz',\n",
    "                 '/home/abenneck/mounts/bmaproot/panfs/dong/3D_registration/Yang_MORF_DragonFly/Q140_MORF_D1/Camk-MORF3-D1Tom_12m_hTME15-1_downsampled/10x/ch_0_pipeline_building/hTME15-1_Camk-MORF3-D1Tom_12m_10X_07_2023-05-08_12.19.31_FusionStitcher_ch_0_pow_[0.125]_down.npz',\n",
    "                 '/home/abenneck/mounts/bmaproot/panfs/dong/3D_registration/Yang_MORF_DragonFly/Q140_MORF_D1/Camk-MORF3-D1Tom_12m_hTME15-1_downsampled/10x/ch_0_pipeline_building/hTME15-1_Camk-MORF3-D1Tom_12m_10X_08_2023-05-08_12.35.58_FusionStitcher_ch_0_pow_[0.125]_down.npz',\n",
    "                 '/home/abenneck/mounts/bmaproot/panfs/dong/3D_registration/Yang_MORF_DragonFly/Q140_MORF_D1/Camk-MORF3-D1Tom_12m_hTME15-1_downsampled/10x/ch_0_pipeline_building/hTME15-1_Camk-MORF3-D1Tom_12m_10X_09_2023-05-08_12.55.16_FusionStitcher_ch_0_pow_[0.125]_down.npz'\n",
    "                ]\n",
    "low_img_ids = ['01','02','03','04','05','06','07','08','09']\n",
    "\n",
    "high_img_paths = ['/home/abenneck/mounts/bmaproot/panfs/dong/3D_registration/Yang_MORF_DragonFly/Q140_MORF_D1/Camk-MORF3-D1Tom_12m_hTME15-1_downsampled/30x/ch_0_pipeline_building/hTME15-1_Camk-MORF3-D1Tom_12m_30X_Str_01_2023-05-12_11.34.43_FusionStitcher_ch_0_pow_[0.125]_down.npz',\n",
    "                  '/home/abenneck/mounts/bmaproot/panfs/dong/3D_registration/Yang_MORF_DragonFly/Q140_MORF_D1/Camk-MORF3-D1Tom_12m_hTME15-1_downsampled/30x/ch_0_pipeline_building/hTME15-1_Camk-MORF3-D1Tom_12m_30X_Str_02_2023-05-12_13.50.00_FusionStitcher_ch_0_pow_[0.125]_down.npz',\n",
    "                  '/home/abenneck/mounts/bmaproot/panfs/dong/3D_registration/Yang_MORF_DragonFly/Q140_MORF_D1/Camk-MORF3-D1Tom_12m_hTME15-1_downsampled/30x/ch_0_pipeline_building/hTME15-1_Camk-MORF3-D1Tom_12m_30X_Str_03_2023-05-12_16.29.54_FusionStitcher_ch_0_pow_[0.125]_down.npz',\n",
    "                  '/home/abenneck/mounts/bmaproot/panfs/dong/3D_registration/Yang_MORF_DragonFly/Q140_MORF_D1/Camk-MORF3-D1Tom_12m_hTME15-1_downsampled/30x/ch_0_pipeline_building/hTME15-1_Camk-MORF3-D1Tom_12m_30X_Str_04_2023-05-15_09.51.46_FusionStitcher_ch_0_pow_[0.125]_down.npz',\n",
    "                  '/home/abenneck/mounts/bmaproot/panfs/dong/3D_registration/Yang_MORF_DragonFly/Q140_MORF_D1/Camk-MORF3-D1Tom_12m_hTME15-1_downsampled/30x/ch_0_pipeline_building/hTME15-1_Camk-MORF3-D1Tom_12m_30X_Str_05_2023-05-15_11.59.03_FusionStitcher_ch_0_pow_[0.125]_down.npz',\n",
    "                  '/home/abenneck/mounts/bmaproot/panfs/dong/3D_registration/Yang_MORF_DragonFly/Q140_MORF_D1/Camk-MORF3-D1Tom_12m_hTME15-1_downsampled/30x/ch_0_pipeline_building/hTME15-1_Camk-MORF3-D1Tom_12m_30X_Str_06_2023-05-15_13.24.24_FusionStitcher_ch_0_pow_[0.125]_down.npz',\n",
    "                  '/home/abenneck/mounts/bmaproot/panfs/dong/3D_registration/Yang_MORF_DragonFly/Q140_MORF_D1/Camk-MORF3-D1Tom_12m_hTME15-1_downsampled/30x/ch_0_pipeline_building/hTME15-1_Camk-MORF3-D1Tom_12m_30X_Str_07_2023-05-15_14.35.58_FusionStitcher_ch_0_pow_[0.125]_down.npz',\n",
    "                  '/home/abenneck/mounts/bmaproot/panfs/dong/3D_registration/Yang_MORF_DragonFly/Q140_MORF_D1/Camk-MORF3-D1Tom_12m_hTME15-1_downsampled/30x/ch_0_pipeline_building/hTME15-1_Camk-MORF3-D1Tom_12m_30X_Str_08_2023-05-15_17.25.31_FusionStitcher_ch_0_pow_[0.125]_down.npz'\n",
    "                 ]\n",
    "high_img_ids = [['01'],['02'],['03'],['04'],['05'],['06'],['07'],['08']]\n",
    "\n",
    "outdir = '/home/abenneck/dragonfly_work/dragonfly_outputs_script/hTME15-1/step3_out'\n",
    "atlas_paths = ['/home/abenneck/mounts/bmaproot/nafs/dtward/allen_vtk/allen_vtk/ara_nissl_50.vtk', '/home/abenneck/mounts/bmaproot/nafs/dtward/allen_vtk/allen_vtk/average_template_50.vtk','/home/abenneck/mounts/bmaproot/nafs/dtward/dong/upenn_atlas/UPenn_labels_reoriented_origin.vtk', '/home/abenneck/mounts/bmaproot/nafs/dtward/dong/upenn_atlas/atlas_info_KimRef_FPbasedLabel_v2.7.csv']\n",
    "d_path = '/home/abenneck/Desktop/donglab_workflows'\n",
    "e_path = '/home/abenneck/Desktop/emlddmm'\n",
    "\n",
    "# Example where all required input arguments are provided + -toggle_cp = True\n",
    "# !python3 step3_atlas_registration.py 'hTME15-1' 'R' -neuron_dir '/home/abenneck/mounts/bmaproot/panfs/dong/3D_registration/Yang_MORF_DragonFly/Q140_MORF_D1/Camk-MORF3-D1Tom_12m_hTME15-1_reconstructions' -low_to_high_dir '/home/abenneck/mounts/bmaproot/nafs/dtward/andrew_work/test/dragonfly_work/dragonfly_outputs/hTME15-1/dragonfly_10_to_30_outputs' -tform '/home/abenneck/mounts/bmaproot/nafs/dtward/andrew_work/test/dragonfly_work/dragonfly_outputs_weighted/hTME15-1/dragonfly_output_vis/transformation_outputs.npz' -low_img_paths  '/home/abenneck/mounts/bmaproot/panfs/dong/3D_registration/Yang_MORF_DragonFly/Q140_MORF_D1/Camk-MORF3-D1Tom_12m_hTME15-1_downsampled/10x/ch_0_pipeline_building/hTME15-1_Camk-MORF3-D1Tom_12m_10X_01_2023-05-08_10.12.46_FusionStitcher_ch_0_pow_[0.125]_down.npz' '/home/abenneck/mounts/bmaproot/panfs/dong/3D_registration/Yang_MORF_DragonFly/Q140_MORF_D1/Camk-MORF3-D1Tom_12m_hTME15-1_downsampled/10x/ch_0_pipeline_building/hTME15-1_Camk-MORF3-D1Tom_12m_10X_02_2023-05-08_10.31.20_FusionStitcher_ch_0_pow_[0.125]_down.npz' '/home/abenneck/mounts/bmaproot/panfs/dong/3D_registration/Yang_MORF_DragonFly/Q140_MORF_D1/Camk-MORF3-D1Tom_12m_hTME15-1_downsampled/10x/ch_0_pipeline_building/hTME15-1_Camk-MORF3-D1Tom_12m_10X_03_2023-05-08_10.48.01_FusionStitcher_ch_0_pow_[0.125]_down.npz' '/home/abenneck/mounts/bmaproot/panfs/dong/3D_registration/Yang_MORF_DragonFly/Q140_MORF_D1/Camk-MORF3-D1Tom_12m_hTME15-1_downsampled/10x/ch_0_pipeline_building/hTME15-1_Camk-MORF3-D1Tom_12m_10X_04_2023-05-08_11.24.52_FusionStitcher_ch_0_pow_[0.125]_down.npz' '/home/abenneck/mounts/bmaproot/panfs/dong/3D_registration/Yang_MORF_DragonFly/Q140_MORF_D1/Camk-MORF3-D1Tom_12m_hTME15-1_downsampled/10x/ch_0_pipeline_building/hTME15-1_Camk-MORF3-D1Tom_12m_10X_05_2023-05-08_11.43.25_FusionStitcher_ch_0_pow_[0.125]_down.npz' '/home/abenneck/mounts/bmaproot/panfs/dong/3D_registration/Yang_MORF_DragonFly/Q140_MORF_D1/Camk-MORF3-D1Tom_12m_hTME15-1_downsampled/10x/ch_0_pipeline_building/hTME15-1_Camk-MORF3-D1Tom_12m_10X_06_2023-05-08_11.57.43_FusionStitcher_ch_0_pow_[0.125]_down.npz' '/home/abenneck/mounts/bmaproot/panfs/dong/3D_registration/Yang_MORF_DragonFly/Q140_MORF_D1/Camk-MORF3-D1Tom_12m_hTME15-1_downsampled/10x/ch_0_pipeline_building/hTME15-1_Camk-MORF3-D1Tom_12m_10X_07_2023-05-08_12.19.31_FusionStitcher_ch_0_pow_[0.125]_down.npz' '/home/abenneck/mounts/bmaproot/panfs/dong/3D_registration/Yang_MORF_DragonFly/Q140_MORF_D1/Camk-MORF3-D1Tom_12m_hTME15-1_downsampled/10x/ch_0_pipeline_building/hTME15-1_Camk-MORF3-D1Tom_12m_10X_08_2023-05-08_12.35.58_FusionStitcher_ch_0_pow_[0.125]_down.npz' -low_img_ids '01' '02' '03' '04' '05' '06' '07' '08' -high_img_paths  '/home/abenneck/mounts/bmaproot/panfs/dong/3D_registration/Yang_MORF_DragonFly/Q140_MORF_D1/Camk-MORF3-D1Tom_12m_hTME15-1_downsampled/30x/ch_0_pipeline_building/hTME15-1_Camk-MORF3-D1Tom_12m_30X_Str_01_2023-05-12_11.34.43_FusionStitcher_ch_0_pow_[0.125]_down.npz' '/home/abenneck/mounts/bmaproot/panfs/dong/3D_registration/Yang_MORF_DragonFly/Q140_MORF_D1/Camk-MORF3-D1Tom_12m_hTME15-1_downsampled/30x/ch_0_pipeline_building/hTME15-1_Camk-MORF3-D1Tom_12m_30X_Str_02_2023-05-12_13.50.00_FusionStitcher_ch_0_pow_[0.125]_down.npz' '/home/abenneck/mounts/bmaproot/panfs/dong/3D_registration/Yang_MORF_DragonFly/Q140_MORF_D1/Camk-MORF3-D1Tom_12m_hTME15-1_downsampled/30x/ch_0_pipeline_building/hTME15-1_Camk-MORF3-D1Tom_12m_30X_Str_03_2023-05-12_16.29.54_FusionStitcher_ch_0_pow_[0.125]_down.npz' '/home/abenneck/mounts/bmaproot/panfs/dong/3D_registration/Yang_MORF_DragonFly/Q140_MORF_D1/Camk-MORF3-D1Tom_12m_hTME15-1_downsampled/30x/ch_0_pipeline_building/hTME15-1_Camk-MORF3-D1Tom_12m_30X_Str_04_2023-05-15_09.51.46_FusionStitcher_ch_0_pow_[0.125]_down.npz' '/home/abenneck/mounts/bmaproot/panfs/dong/3D_registration/Yang_MORF_DragonFly/Q140_MORF_D1/Camk-MORF3-D1Tom_12m_hTME15-1_downsampled/30x/ch_0_pipeline_building/hTME15-1_Camk-MORF3-D1Tom_12m_30X_Str_05_2023-05-15_11.59.03_FusionStitcher_ch_0_pow_[0.125]_down.npz' '/home/abenneck/mounts/bmaproot/panfs/dong/3D_registration/Yang_MORF_DragonFly/Q140_MORF_D1/Camk-MORF3-D1Tom_12m_hTME15-1_downsampled/30x/ch_0_pipeline_building/hTME15-1_Camk-MORF3-D1Tom_12m_30X_Str_06_2023-05-15_13.24.24_FusionStitcher_ch_0_pow_[0.125]_down.npz' '/home/abenneck/mounts/bmaproot/panfs/dong/3D_registration/Yang_MORF_DragonFly/Q140_MORF_D1/Camk-MORF3-D1Tom_12m_hTME15-1_downsampled/30x/ch_0_pipeline_building/hTME15-1_Camk-MORF3-D1Tom_12m_30X_Str_07_2023-05-15_14.35.58_FusionStitcher_ch_0_pow_[0.125]_down.npz' '/home/abenneck/mounts/bmaproot/panfs/dong/3D_registration/Yang_MORF_DragonFly/Q140_MORF_D1/Camk-MORF3-D1Tom_12m_hTME15-1_downsampled/30x/ch_0_pipeline_building/hTME15-1_Camk-MORF3-D1Tom_12m_30X_Str_08_2023-05-15_17.25.31_FusionStitcher_ch_0_pow_[0.125]_down.npz' -high_img_ids '[[01],[02],[03],[04],[05],[06],[07],[08]]' -outdir '/home/abenneck/dragonfly_work/dragonfly_outputs_script/hTME15-1/step3_out' -atlas_paths '/home/abenneck/mounts/bmaproot/nafs/dtward/allen_vtk/allen_vtk/ara_nissl_50.vtk' '/home/abenneck/mounts/bmaproot/nafs/dtward/allen_vtk/allen_vtk/average_template_50.vtk' '/home/abenneck/mounts/bmaproot/nafs/dtward/dong/upenn_atlas/UPenn_labels_reoriented_origin.vtk' '/home/abenneck/mounts/bmaproot/nafs/dtward/dong/upenn_atlas/atlas_info_KimRef_FPbasedLabel_v2.7.csv' -toggle_cp True -d_path '/home/abenneck/Desktop/donglab_workflows' -e_path '/home/abenneck/Desktop/emlddmm'                \n",
    "\n",
    "# Example where the high_img_ids argument is not provided, but rather generated within the script\n",
    "# !python3 step3_atlas_registration.py 'hTME15-1' 'R' -neuron_dir '/home/abenneck/mounts/bmaproot/panfs/dong/3D_registration/Yang_MORF_DragonFly/Q140_MORF_D1/Camk-MORF3-D1Tom_12m_hTME15-1_reconstructions' -low_to_high_dir '/home/abenneck/mounts/bmaproot/nafs/dtward/andrew_work/test/dragonfly_work/dragonfly_outputs/hTME15-1/dragonfly_10_to_30_outputs' -tform '/home/abenneck/mounts/bmaproot/nafs/dtward/andrew_work/test/dragonfly_work/dragonfly_outputs_weighted/hTME15-1/dragonfly_output_vis/transformation_outputs.npz' -low_img_paths  '/home/abenneck/mounts/bmaproot/panfs/dong/3D_registration/Yang_MORF_DragonFly/Q140_MORF_D1/Camk-MORF3-D1Tom_12m_hTME15-1_downsampled/10x/ch_0_pipeline_building/hTME15-1_Camk-MORF3-D1Tom_12m_10X_01_2023-05-08_10.12.46_FusionStitcher_ch_0_pow_[0.125]_down.npz' '/home/abenneck/mounts/bmaproot/panfs/dong/3D_registration/Yang_MORF_DragonFly/Q140_MORF_D1/Camk-MORF3-D1Tom_12m_hTME15-1_downsampled/10x/ch_0_pipeline_building/hTME15-1_Camk-MORF3-D1Tom_12m_10X_02_2023-05-08_10.31.20_FusionStitcher_ch_0_pow_[0.125]_down.npz' '/home/abenneck/mounts/bmaproot/panfs/dong/3D_registration/Yang_MORF_DragonFly/Q140_MORF_D1/Camk-MORF3-D1Tom_12m_hTME15-1_downsampled/10x/ch_0_pipeline_building/hTME15-1_Camk-MORF3-D1Tom_12m_10X_03_2023-05-08_10.48.01_FusionStitcher_ch_0_pow_[0.125]_down.npz' '/home/abenneck/mounts/bmaproot/panfs/dong/3D_registration/Yang_MORF_DragonFly/Q140_MORF_D1/Camk-MORF3-D1Tom_12m_hTME15-1_downsampled/10x/ch_0_pipeline_building/hTME15-1_Camk-MORF3-D1Tom_12m_10X_04_2023-05-08_11.24.52_FusionStitcher_ch_0_pow_[0.125]_down.npz' '/home/abenneck/mounts/bmaproot/panfs/dong/3D_registration/Yang_MORF_DragonFly/Q140_MORF_D1/Camk-MORF3-D1Tom_12m_hTME15-1_downsampled/10x/ch_0_pipeline_building/hTME15-1_Camk-MORF3-D1Tom_12m_10X_05_2023-05-08_11.43.25_FusionStitcher_ch_0_pow_[0.125]_down.npz' '/home/abenneck/mounts/bmaproot/panfs/dong/3D_registration/Yang_MORF_DragonFly/Q140_MORF_D1/Camk-MORF3-D1Tom_12m_hTME15-1_downsampled/10x/ch_0_pipeline_building/hTME15-1_Camk-MORF3-D1Tom_12m_10X_06_2023-05-08_11.57.43_FusionStitcher_ch_0_pow_[0.125]_down.npz' '/home/abenneck/mounts/bmaproot/panfs/dong/3D_registration/Yang_MORF_DragonFly/Q140_MORF_D1/Camk-MORF3-D1Tom_12m_hTME15-1_downsampled/10x/ch_0_pipeline_building/hTME15-1_Camk-MORF3-D1Tom_12m_10X_07_2023-05-08_12.19.31_FusionStitcher_ch_0_pow_[0.125]_down.npz' '/home/abenneck/mounts/bmaproot/panfs/dong/3D_registration/Yang_MORF_DragonFly/Q140_MORF_D1/Camk-MORF3-D1Tom_12m_hTME15-1_downsampled/10x/ch_0_pipeline_building/hTME15-1_Camk-MORF3-D1Tom_12m_10X_08_2023-05-08_12.35.58_FusionStitcher_ch_0_pow_[0.125]_down.npz' -low_img_ids '01' '02' '03' '04' '05' '06' '07' '08' -high_img_paths  '/home/abenneck/mounts/bmaproot/panfs/dong/3D_registration/Yang_MORF_DragonFly/Q140_MORF_D1/Camk-MORF3-D1Tom_12m_hTME15-1_downsampled/30x/ch_0_pipeline_building/hTME15-1_Camk-MORF3-D1Tom_12m_30X_Str_01_2023-05-12_11.34.43_FusionStitcher_ch_0_pow_[0.125]_down.npz' '/home/abenneck/mounts/bmaproot/panfs/dong/3D_registration/Yang_MORF_DragonFly/Q140_MORF_D1/Camk-MORF3-D1Tom_12m_hTME15-1_downsampled/30x/ch_0_pipeline_building/hTME15-1_Camk-MORF3-D1Tom_12m_30X_Str_02_2023-05-12_13.50.00_FusionStitcher_ch_0_pow_[0.125]_down.npz' '/home/abenneck/mounts/bmaproot/panfs/dong/3D_registration/Yang_MORF_DragonFly/Q140_MORF_D1/Camk-MORF3-D1Tom_12m_hTME15-1_downsampled/30x/ch_0_pipeline_building/hTME15-1_Camk-MORF3-D1Tom_12m_30X_Str_03_2023-05-12_16.29.54_FusionStitcher_ch_0_pow_[0.125]_down.npz' '/home/abenneck/mounts/bmaproot/panfs/dong/3D_registration/Yang_MORF_DragonFly/Q140_MORF_D1/Camk-MORF3-D1Tom_12m_hTME15-1_downsampled/30x/ch_0_pipeline_building/hTME15-1_Camk-MORF3-D1Tom_12m_30X_Str_04_2023-05-15_09.51.46_FusionStitcher_ch_0_pow_[0.125]_down.npz' '/home/abenneck/mounts/bmaproot/panfs/dong/3D_registration/Yang_MORF_DragonFly/Q140_MORF_D1/Camk-MORF3-D1Tom_12m_hTME15-1_downsampled/30x/ch_0_pipeline_building/hTME15-1_Camk-MORF3-D1Tom_12m_30X_Str_05_2023-05-15_11.59.03_FusionStitcher_ch_0_pow_[0.125]_down.npz' '/home/abenneck/mounts/bmaproot/panfs/dong/3D_registration/Yang_MORF_DragonFly/Q140_MORF_D1/Camk-MORF3-D1Tom_12m_hTME15-1_downsampled/30x/ch_0_pipeline_building/hTME15-1_Camk-MORF3-D1Tom_12m_30X_Str_06_2023-05-15_13.24.24_FusionStitcher_ch_0_pow_[0.125]_down.npz' '/home/abenneck/mounts/bmaproot/panfs/dong/3D_registration/Yang_MORF_DragonFly/Q140_MORF_D1/Camk-MORF3-D1Tom_12m_hTME15-1_downsampled/30x/ch_0_pipeline_building/hTME15-1_Camk-MORF3-D1Tom_12m_30X_Str_07_2023-05-15_14.35.58_FusionStitcher_ch_0_pow_[0.125]_down.npz' '/home/abenneck/mounts/bmaproot/panfs/dong/3D_registration/Yang_MORF_DragonFly/Q140_MORF_D1/Camk-MORF3-D1Tom_12m_hTME15-1_downsampled/30x/ch_0_pipeline_building/hTME15-1_Camk-MORF3-D1Tom_12m_30X_Str_08_2023-05-15_17.25.31_FusionStitcher_ch_0_pow_[0.125]_down.npz' -outdir '/home/abenneck/dragonfly_work/dragonfly_outputs_script/hTME15-1/step3_out' -atlas_paths '/home/abenneck/mounts/bmaproot/nafs/dtward/allen_vtk/allen_vtk/ara_nissl_50.vtk' '/home/abenneck/mounts/bmaproot/nafs/dtward/allen_vtk/allen_vtk/average_template_50.vtk' '/home/abenneck/mounts/bmaproot/nafs/dtward/dong/upenn_atlas/UPenn_labels_reoriented_origin.vtk' '/home/abenneck/mounts/bmaproot/nafs/dtward/dong/upenn_atlas/atlas_info_KimRef_FPbasedLabel_v2.7.csv' -d_path '/home/abenneck/Desktop/donglab_workflows' -e_path '/home/abenneck/Desktop/emlddmm'"
   ]
  }
 ],
 "metadata": {
  "kernelspec": {
   "display_name": "Python 3 (ipykernel)",
   "language": "python",
   "name": "python3"
  },
  "language_info": {
   "codemirror_mode": {
    "name": "ipython",
    "version": 3
   },
   "file_extension": ".py",
   "mimetype": "text/x-python",
   "name": "python",
   "nbconvert_exporter": "python",
   "pygments_lexer": "ipython3",
   "version": "3.10.12"
  }
 },
 "nbformat": 4,
 "nbformat_minor": 5
}
